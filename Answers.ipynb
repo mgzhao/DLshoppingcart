{
 "cells": [
  {
   "cell_type": "markdown",
   "metadata": {},
   "source": [
    "## Exercise 1 - Constrained Autoencoders"
   ]
  },
  {
   "cell_type": "code",
   "execution_count": 1,
   "metadata": {},
   "outputs": [
    {
     "name": "stdout",
     "output_type": "stream",
     "text": [
      "Extracting /tmp/data/train-images-idx3-ubyte.gz\n",
      "Extracting /tmp/data/train-labels-idx1-ubyte.gz\n",
      "Extracting /tmp/data/t10k-images-idx3-ubyte.gz\n",
      "Extracting /tmp/data/t10k-labels-idx1-ubyte.gz\n",
      "Epoch: 0 Test MSE: 0.048003267\n",
      "Epoch: 1 Test MSE: 0.044414304\n",
      "Epoch: 2 Test MSE: 0.044283558\n",
      "Epoch: 3 Test MSE: 0.044295073\n",
      "Epoch: 4 Test MSE: 0.04439807\n"
     ]
    },
    {
     "data": {
      "image/png": "[encoded data removed]",
      "text/plain": [
       "<matplotlib.figure.Figure at 0x7fff8f04c860>"
      ]
     },
     "metadata": {},
     "output_type": "display_data"
    },
    {
     "data": {
      "image/png": "[encoded data removed]",
      "text/plain": [
       "<matplotlib.figure.Figure at 0x7fff8adf52e8>"
      ]
     },
     "metadata": {},
     "output_type": "display_data"
    }
   ],
   "source": [
    "from __future__ import division, print_function, unicode_literals\n",
    "import matplotlib\n",
    "import matplotlib.pyplot as plt\n",
    "import numpy as np\n",
    "import os\n",
    "import sys\n",
    "import tensorflow as tf\n",
    "from tensorflow.examples.tutorials.mnist import input_data\n",
    "\n",
    "\n",
    "# matplotlib settings\n",
    "%matplotlib inline\n",
    "\n",
    "# load data\n",
    "mnist = input_data.read_data_sets(\"/tmp/data/\")\n",
    "\n",
    "# network settings\n",
    "n_inputs = 28 * 28\n",
    "n_hidden1 = 256\n",
    "n_hidden2 = 128\n",
    "n_hidden3 = n_hidden1\n",
    "n_outputs = n_inputs\n",
    "learning_rate = 0.01\n",
    "l2_reg = 0.001\n",
    "initializer = tf.contrib.layers.variance_scaling_initializer()\n",
    "regularizer = tf.contrib.layers.l2_regularizer(l2_reg)\n",
    "\n",
    "# define placeholder\n",
    "X_placeholder = tf.placeholder(tf.float32, shape=[None, n_inputs])\n",
    "\n",
    "# define graph\n",
    "W_1_init = initializer((n_inputs, n_hidden1))\n",
    "W_2_init = initializer((n_hidden1, n_hidden2))\n",
    "# W_1 = tf.Variable(tf.truncated_normal((n_inputs, n_hidden1)), dtype=tf.float32)\n",
    "# W_2 = tf.Variable(tf.truncated_normal((n_hidden1, n_hidden2)), dtype=tf.float32)\n",
    "W_1 = tf.Variable(W_1_init, dtype=tf.float32)\n",
    "W_2 = tf.Variable(W_2_init, dtype=tf.float32)\n",
    "W_3 = tf.transpose(W_2)\n",
    "W_4 = tf.transpose(W_1)\n",
    "\n",
    "\n",
    "b_1 = tf.Variable(tf.zeros((n_hidden1)), dtype=tf.float32)\n",
    "b_2 = tf.Variable(tf.zeros((n_hidden2)), dtype=tf.float32)\n",
    "b_3 = tf.Variable(tf.zeros((n_hidden3)), dtype=tf.float32)\n",
    "b_4 = tf.Variable(tf.zeros((n_outputs)), dtype=tf.float32)\n",
    "\n",
    "hidden1 = tf.nn.elu(tf.matmul(X_placeholder, W_1) + b_1)\n",
    "hidden2 = tf.nn.elu(tf.matmul(hidden1, W_2) + b_2)\n",
    "hidden3 = tf.nn.elu(tf.matmul(hidden2, W_3) + b_3)\n",
    "outputs = tf.matmul(hidden3, W_4) + b_4\n",
    "\n",
    "reconstruction_loss = tf.reduce_mean(tf.square(outputs - X_placeholder))\n",
    "regularization_loss = regularizer(W_1) + regularizer(W_2)\n",
    "loss = reconstruction_loss + regularization_loss\n",
    "optimizer = tf.train.AdamOptimizer(learning_rate)\n",
    "train_op = optimizer.minimize(loss)\n",
    "\n",
    "# create a node to initialize our global variables\n",
    "init = tf.global_variables_initializer()\n",
    "\n",
    "# training settings\n",
    "n_epochs = 5\n",
    "batch_size = 100\n",
    "n_batches = mnist.train.num_examples // batch_size\n",
    "X_test = mnist.test.images\n",
    "\n",
    "# execute graph\n",
    "with tf.Session() as sess:\n",
    "    init.run()\n",
    "    for n_epoch in range(n_epochs):\n",
    "        for n_batch in range(n_batches):\n",
    "            X_batch, _ = mnist.train.next_batch(batch_size)\n",
    "            sess.run(train_op, feed_dict={X_placeholder: X_batch})\n",
    "        loss_eval = loss.eval(feed_dict={X_placeholder: X_test})\n",
    "        print('Epoch:', n_epoch, 'Test MSE:', loss_eval)\n",
    "    \n",
    "    # show random test example\n",
    "    X_test, _ = mnist.test.next_batch(1)\n",
    "    fig1 = plt.figure()\n",
    "    plt.imshow(X_test.reshape((28, 28)), cmap=\"Greys\", interpolation=\"nearest\")\n",
    "    plt.show()\n",
    "    fig2 = plt.figure()\n",
    "    X_test_eval = sess.run(outputs, feed_dict={X_placeholder: X_test})\n",
    "    plt.imshow(X_test_eval.reshape((28, 28)), cmap=\"Greys\", interpolation=\"nearest\")\n",
    "    plt.show()"
   ]
  },
  {
   "cell_type": "markdown",
   "metadata": {},
   "source": [
    "## Exercise 2 - Denoising Autoencoders"
   ]
  },
  {
   "cell_type": "code",
   "execution_count": 2,
   "metadata": {},
   "outputs": [
    {
     "name": "stdout",
     "output_type": "stream",
     "text": [
      "Extracting /tmp/data/train-images-idx3-ubyte.gz\n",
      "Extracting /tmp/data/train-labels-idx1-ubyte.gz\n",
      "Extracting /tmp/data/t10k-images-idx3-ubyte.gz\n",
      "Extracting /tmp/data/t10k-labels-idx1-ubyte.gz\n",
      "Epoch: 0 Test MSE: 0.03432975\n",
      "Epoch: 1 Test MSE: 0.033187825\n",
      "Epoch: 2 Test MSE: 0.032501254\n",
      "Epoch: 3 Test MSE: 0.032202665\n",
      "Epoch: 4 Test MSE: 0.032127205\n"
     ]
    },
    {
     "data": {
      "image/png": "[encoded data removed]",
      "text/plain": [
       "<matplotlib.figure.Figure at 0x7fff8ad67d30>"
      ]
     },
     "metadata": {},
     "output_type": "display_data"
    },
    {
     "name": "stdout",
     "output_type": "stream",
     "text": [
      "Original Image\n"
     ]
    },
    {
     "data": {
      "image/png": "[encoded data removed]",
      "text/plain": [
       "<matplotlib.figure.Figure at 0x7fff8ab605f8>"
      ]
     },
     "metadata": {},
     "output_type": "display_data"
    },
    {
     "name": "stdout",
     "output_type": "stream",
     "text": [
      "Noise\n"
     ]
    },
    {
     "data": {
      "image/png": "[encoded data removed]",
      "text/plain": [
       "<matplotlib.figure.Figure at 0x7fff8aab4e80>"
      ]
     },
     "metadata": {},
     "output_type": "display_data"
    },
    {
     "name": "stdout",
     "output_type": "stream",
     "text": [
      "Input to model: Original Image + Noise\n"
     ]
    },
    {
     "data": {
      "image/png": "[encoded data removed]",
      "text/plain": [
       "<matplotlib.figure.Figure at 0x7fff8aa91e80>"
      ]
     },
     "metadata": {},
     "output_type": "display_data"
    },
    {
     "name": "stdout",
     "output_type": "stream",
     "text": [
      "Output from model: Denoised Image\n"
     ]
    }
   ],
   "source": [
    "from __future__ import division, print_function, unicode_literals\n",
    "import matplotlib\n",
    "import matplotlib.pyplot as plt\n",
    "import numpy as np\n",
    "import os\n",
    "import sys\n",
    "import tensorflow as tf\n",
    "from tensorflow.contrib.layers import fully_connected\n",
    "from tensorflow.examples.tutorials.mnist import input_data\n",
    "\n",
    "\n",
    "# matplotlib settings\n",
    "%matplotlib inline\n",
    "\n",
    "# load data\n",
    "mnist = input_data.read_data_sets(\"/tmp/data/\")\n",
    "\n",
    "# network settings\n",
    "n_inputs = 28 * 28\n",
    "n_hidden1 = 128\n",
    "n_hidden2 = 64\n",
    "n_hidden3 = n_hidden1\n",
    "n_outputs = n_inputs\n",
    "learning_rate = 0.01\n",
    "\n",
    "# define placeholder\n",
    "X_placeholder = tf.placeholder(tf.float32, shape=[None, n_inputs])\n",
    "X_noisy_placeholder = tf.placeholder(tf.float32, shape=[None, n_inputs])\n",
    "\n",
    "# define graph\n",
    "hidden1 = fully_connected(X_noisy_placeholder, n_hidden1)\n",
    "hidden2 = fully_connected(hidden1, n_hidden2)\n",
    "hidden3 = fully_connected(hidden2, n_hidden3)\n",
    "outputs = fully_connected(hidden3, n_outputs)\n",
    "loss = tf.reduce_mean(tf.square(outputs - X_placeholder))\n",
    "optimizer = tf.train.AdamOptimizer(learning_rate)\n",
    "train_op = optimizer.minimize(loss)\n",
    "\n",
    "# create a node to initialize our global variables\n",
    "init = tf.global_variables_initializer()\n",
    "\n",
    "# training settings\n",
    "n_epochs = 5\n",
    "batch_size = 100\n",
    "n_batches = mnist.train.num_examples // batch_size\n",
    "X_test = mnist.test.images\n",
    "noise_test = np.random.uniform(0, 0.5, (mnist.test.num_examples, 784))\n",
    "X_noisy_test = X_test + noise_test\n",
    "feed_dict_test = {X_placeholder: X_test, X_noisy_placeholder: X_noisy_test}\n",
    "\n",
    "# execute graph\n",
    "with tf.Session() as sess:\n",
    "    init.run()\n",
    "    for n_epoch in range(n_epochs):\n",
    "        for n_batch in range(n_batches):\n",
    "            X_batch, _ = mnist.train.next_batch(batch_size)\n",
    "            noise = np.random.uniform(0, 0.5, (batch_size, 784))\n",
    "            X_noisy_batch = X_batch +  noise\n",
    "            feed_dict_train = {X_placeholder: X_batch, \n",
    "                               X_noisy_placeholder: X_noisy_batch}\n",
    "            sess.run(train_op, feed_dict=feed_dict_train)\n",
    "        loss_eval = loss.eval(feed_dict=feed_dict_test)\n",
    "        print('Epoch:', n_epoch, 'Test MSE:', loss_eval)\n",
    "    \n",
    "    # show test example\n",
    "    index = 2  # change this to pick another test example\n",
    "    fig1 = plt.figure()\n",
    "    plt.imshow(X_test[index].reshape((28, 28)), cmap=\"Greys\", interpolation=\"nearest\")\n",
    "    plt.show()\n",
    "    print('Original Image')\n",
    "    fig2 = plt.figure()\n",
    "    plt.imshow(noise_test[index].reshape((28, 28)), cmap=\"Greys\", interpolation=\"nearest\")\n",
    "    plt.show()\n",
    "    print('Noise')\n",
    "    fig3 = plt.figure()\n",
    "    plt.imshow(X_noisy_test[index].reshape((28, 28)), cmap=\"Greys\", interpolation=\"nearest\")\n",
    "    plt.show()\n",
    "    print('Input to model: Original Image + Noise')\n",
    "    fig4 = plt.figure()\n",
    "    X_test_eval = sess.run(outputs, feed_dict={X_placeholder: X_test[index:index + 1], \n",
    "                                               X_noisy_placeholder: X_noisy_test[index:index + 1]})\n",
    "    plt.imshow(X_test_eval.reshape((28, 28)), cmap=\"Greys\", interpolation=\"nearest\")\n",
    "    plt.show()\n",
    "    print('Output from model: Denoised Image')"
   ]
  },
  {
   "cell_type": "markdown",
   "metadata": {},
   "source": [
    "## Exercise 3 - Sparse Autoencoders"
   ]
  },
  {
   "cell_type": "code",
   "execution_count": 3,
   "metadata": {},
   "outputs": [
    {
     "name": "stdout",
     "output_type": "stream",
     "text": [
      "Extracting /tmp/data/train-images-idx3-ubyte.gz\n",
      "Extracting /tmp/data/train-labels-idx1-ubyte.gz\n",
      "Extracting /tmp/data/t10k-images-idx3-ubyte.gz\n",
      "Extracting /tmp/data/t10k-labels-idx1-ubyte.gz\n",
      "Epoch: 0 Test MSE: 686872.0\n",
      "Epoch: 1 Test MSE: 611968.3\n",
      "Epoch: 2 Test MSE: 581348.06\n",
      "Epoch: 3 Test MSE: 564478.5\n",
      "Epoch: 4 Test MSE: 557722.06\n",
      "Epoch: 5 Test MSE: 548542.3\n",
      "Epoch: 6 Test MSE: 546227.56\n",
      "Epoch: 7 Test MSE: 544371.25\n",
      "Epoch: 8 Test MSE: 542068.75\n",
      "Epoch: 9 Test MSE: 541411.06\n"
     ]
    },
    {
     "data": {
      "image/png": "[encoded data removed]",
      "text/plain": [
       "<matplotlib.figure.Figure at 0x7fff8a1b8c18>"
      ]
     },
     "metadata": {},
     "output_type": "display_data"
    },
    {
     "data": {
      "image/png": "[encoded data removed]",
      "text/plain": [
       "<matplotlib.figure.Figure at 0x7fff89f187b8>"
      ]
     },
     "metadata": {},
     "output_type": "display_data"
    }
   ],
   "source": [
    "from __future__ import division, print_function, unicode_literals\n",
    "import matplotlib\n",
    "import matplotlib.pyplot as plt\n",
    "import numpy as np\n",
    "import os\n",
    "import sys\n",
    "import tensorflow as tf\n",
    "from tensorflow.examples.tutorials.mnist import input_data\n",
    "\n",
    "\n",
    "# matplotlib settings\n",
    "%matplotlib inline\n",
    "\n",
    "# load data\n",
    "mnist = input_data.read_data_sets(\"/tmp/data/\")\n",
    "\n",
    "# network settings\n",
    "n_inputs = 28 * 28\n",
    "n_hidden1 = 128\n",
    "n_outputs = n_inputs\n",
    "learning_rate = 0.01\n",
    "sparsity_target = 0.1\n",
    "sparsity_weight = 0.2\n",
    "initializer = tf.contrib.layers.variance_scaling_initializer()\n",
    "\n",
    "# define placeholder\n",
    "X_placeholder = tf.placeholder(tf.float32, shape=[None, n_inputs])\n",
    "\n",
    "# define graph\n",
    "def kl_divergence(p, q):\n",
    "    return p * tf.log(p / q) + (1 - q) * tf.log((1 - p) / (1 - q))\n",
    "\n",
    "W_1_init = initializer((n_inputs, n_hidden1))\n",
    "W_2_init = initializer((n_hidden1, n_outputs))\n",
    "W_1 = tf.Variable(W_1_init, dtype=tf.float32)\n",
    "W_2 = tf.Variable(W_2_init, dtype=tf.float32)\n",
    "b_1 = tf.Variable(tf.zeros((n_hidden1)), dtype=tf.float32)\n",
    "b_2 = tf.Variable(tf.zeros((n_outputs)), dtype=tf.float32)\n",
    "hidden1 = tf.nn.sigmoid(tf.matmul(X_placeholder, W_1) + b_1)\n",
    "logits = tf.matmul(hidden1, W_2) + b_2\n",
    "outputs = tf.nn.sigmoid(logits)\n",
    "\n",
    "hidden1_mean = tf.reduce_mean(hidden1, axis=0)\n",
    "sparsity_loss = tf.reduce_sum(kl_divergence(sparsity_target, hidden1_mean))\n",
    "# reconstruction_loss = tf.reduce_mean(tf.square(outputs - X_placeholder))\n",
    "reconstruction_loss = tf.reduce_sum(tf.nn.sigmoid_cross_entropy_with_logits(labels=X_placeholder, logits=logits))\n",
    "loss = reconstruction_loss + sparsity_weight * sparsity_loss\n",
    "optimizer = tf.train.AdamOptimizer(learning_rate)\n",
    "train_op = optimizer.minimize(loss)\n",
    "\n",
    "# create a node to initialize our global variables\n",
    "init = tf.global_variables_initializer()\n",
    "\n",
    "# training settings\n",
    "n_epochs = 10\n",
    "batch_size = 100\n",
    "n_batches = mnist.train.num_examples // batch_size\n",
    "X_test = mnist.test.images\n",
    "\n",
    "# execute graph\n",
    "with tf.Session() as sess:\n",
    "    init.run()\n",
    "    for n_epoch in range(n_epochs):\n",
    "        for n_batch in range(n_batches):\n",
    "            X_batch, _ = mnist.train.next_batch(batch_size)\n",
    "            sess.run(train_op, feed_dict={X_placeholder: X_batch})\n",
    "        loss_eval = loss.eval(feed_dict={X_placeholder: X_test})\n",
    "        print('Epoch:', n_epoch, 'Test MSE:', loss_eval)\n",
    "    \n",
    "    # show random test example\n",
    "    X_test, _ = mnist.test.next_batch(1)\n",
    "    fig1 = plt.figure()\n",
    "    plt.imshow(X_test.reshape((28, 28)), cmap=\"Greys\", interpolation=\"nearest\")\n",
    "    plt.show()\n",
    "    fig2 = plt.figure()\n",
    "    X_test_eval = sess.run(outputs, feed_dict={X_placeholder: X_test})\n",
    "    plt.imshow(X_test_eval.reshape((28, 28)), cmap=\"Greys\", interpolation=\"nearest\")\n",
    "    plt.show()"
   ]
  },
  {
   "cell_type": "markdown",
   "metadata": {},
   "source": [
    "## Exercise 4 - Variational Autoencoders"
   ]
  },
  {
   "cell_type": "code",
   "execution_count": 4,
   "metadata": {},
   "outputs": [
    {
     "name": "stdout",
     "output_type": "stream",
     "text": [
      "Extracting /tmp/data/train-images-idx3-ubyte.gz\n",
      "Extracting /tmp/data/train-labels-idx1-ubyte.gz\n",
      "Extracting /tmp/data/t10k-images-idx3-ubyte.gz\n",
      "Extracting /tmp/data/t10k-labels-idx1-ubyte.gz\n",
      "Epoch: 0 Test MSE: 3120423.8\n",
      "Epoch: 1 Test MSE: 3049155.5\n",
      "Epoch: 2 Test MSE: 3017335.2\n",
      "Epoch: 3 Test MSE: 3012745.5\n",
      "Epoch: 4 Test MSE: 3008715.0\n",
      "Epoch: 5 Test MSE: 2992171.5\n",
      "Epoch: 6 Test MSE: 3002723.8\n",
      "Epoch: 7 Test MSE: 2997291.2\n",
      "Epoch: 8 Test MSE: 2987564.5\n",
      "Epoch: 9 Test MSE: 2987814.5\n"
     ]
    },
    {
     "data": {
      "image/png": "[encoded data removed]",
      "text/plain": [
       "<matplotlib.figure.Figure at 0x7fff8aba1940>"
      ]
     },
     "metadata": {},
     "output_type": "display_data"
    },
    {
     "name": "stdout",
     "output_type": "stream",
     "text": [
      "Original Image\n"
     ]
    },
    {
     "data": {
      "image/png": "[encoded data removed]",
      "text/plain": [
       "<matplotlib.figure.Figure at 0x7fff862e7b70>"
      ]
     },
     "metadata": {},
     "output_type": "display_data"
    },
    {
     "name": "stdout",
     "output_type": "stream",
     "text": [
      "Reconstructed Image\n"
     ]
    },
    {
     "data": {
      "image/png": "[encoded data removed]",
      "text/plain": [
       "<matplotlib.figure.Figure at 0x7fff81a9aef0>"
      ]
     },
     "metadata": {},
     "output_type": "display_data"
    },
    {
     "name": "stdout",
     "output_type": "stream",
     "text": [
      "Image Generated from Random Noise passed into Codings\n"
     ]
    }
   ],
   "source": [
    "from __future__ import division, print_function, unicode_literals\n",
    "import matplotlib\n",
    "import matplotlib.pyplot as plt\n",
    "import numpy as np\n",
    "import os\n",
    "import sys\n",
    "import tensorflow as tf\n",
    "from tensorflow.contrib.layers import fully_connected\n",
    "from tensorflow.examples.tutorials.mnist import input_data\n",
    "\n",
    "\n",
    "# matplotlib settings\n",
    "%matplotlib inline\n",
    "\n",
    "# load data\n",
    "mnist = input_data.read_data_sets(\"/tmp/data/\")\n",
    "\n",
    "# network settings\n",
    "n_inputs = 28 * 28\n",
    "n_hidden1 = 128\n",
    "n_hidden2 = 64\n",
    "n_hidden3 = 32\n",
    "n_hidden4 = n_hidden2\n",
    "n_hidden5 = n_hidden1\n",
    "n_outputs = n_inputs\n",
    "learning_rate = 0.01\n",
    "\n",
    "# define placeholder\n",
    "X_placeholder = tf.placeholder(tf.float32, shape=[None, n_inputs])\n",
    "\n",
    "# define graph\n",
    "with tf.contrib.framework.arg_scope([fully_connected], \n",
    "                                   activation_fn=tf.nn.elu, \n",
    "                                   weights_initializer=tf.contrib.layers.variance_scaling_initializer()):\n",
    "    hidden1 = fully_connected(X_placeholder, n_hidden1)\n",
    "    hidden2 = fully_connected(hidden1, n_hidden2)\n",
    "    hidden3_mean = fully_connected(hidden2, n_hidden3, activation_fn=None)\n",
    "    hidden3_gamma = fully_connected(hidden2, n_hidden3, activation_fn=None)\n",
    "    hidden3_sigma = tf.exp(0.5 * hidden3_gamma)\n",
    "    noise = tf.random_normal(tf.shape(hidden3_sigma), dtype=tf.float32)\n",
    "    hidden3 = hidden3_mean + hidden3_sigma * noise\n",
    "    hidden4 = fully_connected(hidden3, n_hidden4)\n",
    "    hidden5 = fully_connected(hidden4, n_hidden5)\n",
    "    logits = fully_connected(hidden5, n_outputs)\n",
    "    outputs = tf.nn.sigmoid(logits)\n",
    "\n",
    "reconstruction_loss = tf.reduce_sum(tf.nn.sigmoid_cross_entropy_with_logits(labels=X_placeholder, logits=logits))\n",
    "latent_loss = 0.5 * tf.reduce_sum(tf.exp(hidden3_gamma) + tf.square(hidden3_mean) - 1 - hidden3_gamma)\n",
    "loss = reconstruction_loss + latent_loss\n",
    "optimizer = tf.train.AdamOptimizer(learning_rate)\n",
    "train_op = optimizer.minimize(loss)\n",
    "\n",
    "# create a node to initialize our global variables\n",
    "init = tf.global_variables_initializer()\n",
    "\n",
    "# training settings\n",
    "n_epochs = 10\n",
    "batch_size = 100\n",
    "n_batches = mnist.train.num_examples // batch_size\n",
    "X_test = mnist.test.images\n",
    "\n",
    "# execute graph\n",
    "with tf.Session() as sess:\n",
    "    init.run()\n",
    "    for n_epoch in range(n_epochs):\n",
    "        for n_batch in range(n_batches):\n",
    "            X_batch, _ = mnist.train.next_batch(batch_size)\n",
    "            sess.run(train_op, feed_dict={X_placeholder: X_batch})\n",
    "        loss_eval = loss.eval(feed_dict={X_placeholder: X_test})\n",
    "        print('Epoch:', n_epoch, 'Test MSE:', loss_eval)\n",
    "    \n",
    "    # show random test example\n",
    "    X_test, _ = mnist.test.next_batch(1)\n",
    "    fig1 = plt.figure()\n",
    "    plt.imshow(X_test.reshape((28, 28)), cmap=\"Greys\", interpolation=\"nearest\")\n",
    "    plt.show()\n",
    "    print('Original Image')\n",
    "    fig2 = plt.figure()\n",
    "    X_test_eval = sess.run(outputs, feed_dict={X_placeholder: X_test})\n",
    "    plt.imshow(X_test_eval.reshape((28, 28)), cmap=\"Greys\", interpolation=\"nearest\")\n",
    "    plt.show()\n",
    "    print('Reconstructed Image')\n",
    "    fig3 = plt.figure()\n",
    "    X_test_codings = np.random.normal(size=(1, n_hidden3))\n",
    "    X_test_codings_eval = sess.run(outputs, feed_dict={hidden3: X_test_codings})\n",
    "    plt.imshow(X_test_codings_eval.reshape((28, 28)), cmap=\"Greys\", interpolation=\"nearest\")\n",
    "    plt.show()\n",
    "    print('Image Generated from Random Noise passed into Codings')"
   ]
  },
  {
   "cell_type": "markdown",
   "metadata": {},
   "source": [
    "## Exercise 5 - Anomaly Detection using Autoencoders"
   ]
  },
  {
   "cell_type": "code",
   "execution_count": 5,
   "metadata": {},
   "outputs": [
    {
     "name": "stdout",
     "output_type": "stream",
     "text": [
      "Extracting /tmp/data/train-images-idx3-ubyte.gz\n",
      "Extracting /tmp/data/train-labels-idx1-ubyte.gz\n",
      "Extracting /tmp/data/t10k-images-idx3-ubyte.gz\n",
      "Extracting /tmp/data/t10k-labels-idx1-ubyte.gz\n",
      "Epoch: 0 Test MSE: 0.024841223\n",
      "Epoch: 1 Test MSE: 0.022647224\n",
      "Epoch: 2 Test MSE: 0.021176025\n",
      "Epoch: 3 Test MSE: 0.020910671\n",
      "Epoch: 4 Test MSE: 0.020760698\n"
     ]
    },
    {
     "data": {
      "image/png": "[encoded data removed]",
      "text/plain": [
       "<matplotlib.figure.Figure at 0x7fff743445c0>"
      ]
     },
     "metadata": {},
     "output_type": "display_data"
    },
    {
     "data": {
      "image/png": "[encoded data removed]",
      "text/plain": [
       "<matplotlib.figure.Figure at 0x7fff741d5c88>"
      ]
     },
     "metadata": {},
     "output_type": "display_data"
    },
    {
     "name": "stdout",
     "output_type": "stream",
     "text": [
      "Reconstruction loss: 23570.584\n"
     ]
    }
   ],
   "source": [
    "from __future__ import division, print_function, unicode_literals\n",
    "import matplotlib\n",
    "import matplotlib.pyplot as plt\n",
    "import numpy as np\n",
    "import os\n",
    "import sys\n",
    "import tensorflow as tf\n",
    "from tensorflow.contrib.layers import fully_connected\n",
    "from tensorflow.examples.tutorials.mnist import input_data\n",
    "\n",
    "\n",
    "# matplotlib settings\n",
    "%matplotlib inline\n",
    "\n",
    "# load data\n",
    "mnist = input_data.read_data_sets(\"/tmp/data/\")\n",
    "\n",
    "# network settings\n",
    "n_inputs = 28 * 28\n",
    "n_hidden1 = 128\n",
    "n_hidden2 = 64\n",
    "n_hidden3 = n_hidden1\n",
    "n_outputs = n_inputs\n",
    "learning_rate = 0.01\n",
    "\n",
    "# define placeholder\n",
    "X_placeholder = tf.placeholder(tf.float32, shape=[None, n_inputs])\n",
    "\n",
    "# define graph\n",
    "hidden1 = fully_connected(X_placeholder, n_hidden1)\n",
    "hidden2 = fully_connected(hidden1, n_hidden2)\n",
    "hidden3 = fully_connected(hidden2, n_hidden3)\n",
    "outputs = fully_connected(hidden3, n_outputs)\n",
    "loss = tf.reduce_mean(tf.square(outputs - X_placeholder))\n",
    "optimizer = tf.train.AdamOptimizer(learning_rate)\n",
    "train_op = optimizer.minimize(loss)\n",
    "\n",
    "# create a node to initialize our global variables\n",
    "init = tf.global_variables_initializer()\n",
    "\n",
    "# training settings\n",
    "n_epochs = 5\n",
    "batch_size = 100\n",
    "n_batches = mnist.train.num_examples // batch_size\n",
    "X_test = mnist.test.images\n",
    "\n",
    "# execute graph\n",
    "with tf.Session() as sess:\n",
    "    init.run()\n",
    "    for n_epoch in range(n_epochs):\n",
    "        for n_batch in range(n_batches):\n",
    "            X_batch, _ = mnist.train.next_batch(batch_size)\n",
    "            sess.run(train_op, feed_dict={X_placeholder: X_batch})\n",
    "        loss_eval = loss.eval(feed_dict={X_placeholder: X_test})\n",
    "        print('Epoch:', n_epoch, 'Test MSE:', loss_eval)\n",
    "    \n",
    "    # show random test example\n",
    "    X_test = np.random.uniform(0, 255, (1, 784))\n",
    "    fig1 = plt.figure()\n",
    "    plt.imshow(X_test.reshape((28, 28)), cmap=\"Greys\", interpolation=\"nearest\")\n",
    "    plt.show()\n",
    "    fig2 = plt.figure()\n",
    "    X_test_eval = sess.run(outputs, feed_dict={X_placeholder: X_test})\n",
    "    plt.imshow(X_test_eval.reshape((28, 28)), cmap=\"Greys\", interpolation=\"nearest\")\n",
    "    plt.show()\n",
    "    X_test_loss_eval = loss.eval(feed_dict={X_placeholder: X_test})\n",
    "    print('Reconstruction loss:', X_test_loss_eval)"
   ]
  },
  {
   "cell_type": "markdown",
   "metadata": {},
   "source": [
    "## Exercise 6 - To be edited.\n",
    "\n",
    "To be edited."
   ]
  },
  {
   "cell_type": "markdown",
   "metadata": {},
   "source": [
    "## Exercise 7 - To be edited.\n",
    "\n",
    "To be edited."
   ]
  },
  {
   "cell_type": "markdown",
   "metadata": {},
   "source": [
    "## Exercise 8 - To be edited.\n",
    "\n",
    "To be edited."
   ]
  },
  {
   "cell_type": "markdown",
   "metadata": {},
   "source": [
    "## Exercise 9 - To be edited.\n",
    "\n",
    "To be edited."
   ]
  },
  {
   "cell_type": "code",
   "execution_count": null,
   "metadata": {},
   "outputs": [],
   "source": []
  }
 ],
 "metadata": {
  "kernelspec": {
   "display_name": "Python 3",
   "language": "python",
   "name": "python3"
  },
  "language_info": {
   "codemirror_mode": {
    "name": "ipython",
    "version": 3
   },
   "file_extension": ".py",
   "mimetype": "text/x-python",
   "name": "python",
   "nbconvert_exporter": "python",
   "pygments_lexer": "ipython3",
   "version": "3.6.3"
  }
 },
 "nbformat": 4,
 "nbformat_minor": 2
}
